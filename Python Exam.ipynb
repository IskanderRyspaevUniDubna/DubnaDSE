{
 "cells": [
  {
   "cell_type": "code",
   "execution_count": null,
   "id": "acf88d96",
   "metadata": {},
   "outputs": [],
   "source": [
    "import random\n",
    "import time\n",
    "import os\n",
    "number_of_lines = int(input(\"Введите число строк: \")) # число строк\n",
    "number_of_columns = int(input(\"Введите число столбцов: \")) # число столбцов\n",
    "our_matrix = [[0] * number_of_columns for i in range(number_of_lines)] # инициализация пустой матрицы\n",
    "# заполнение массива рандомными числами от 0 до 9. \n",
    "for i in range(len(our_matrix)):\n",
    "    for j in range(len(our_matrix[i])):\n",
    "        our_matrix[i][j] = random.randint(-10,10) \n",
    "# вывод сгенерированной матрицы\n",
    "print(\"Сгенерированный массив:\")\n",
    "for i in range(len(our_matrix)):\n",
    "    for j in range(len(our_matrix[i])):\n",
    "        print(our_matrix[i][j], end = ' ')\n",
    "    print()\n",
    "# вывод суммы и произведения всех элементов массива\n",
    "sum_of_all_array_elements = 0 # инициализация переменной суммы всех элементов массива\n",
    "product_of_all_array_elements = 1 # инициализация переменной произведения всех элементов массива\n",
    "for i in range(len(our_matrix)):\n",
    "    for j in range(len(our_matrix[i])):\n",
    "        sum_of_all_array_elements += our_matrix[i][j]\n",
    "        product_of_all_array_elements *= our_matrix[i][j]\n",
    "print(\"Сумма всех элементов массива: \" + str(sum_of_all_array_elements))\n",
    "print(\"Произведение всех элементов массива: \" + str(product_of_all_array_elements))\n",
    "# вывод суммы и произведения всех чётных элементов массива\n",
    "sum_of_all_array_elements = 0 # инициализация переменной суммы всех элементов массива\n",
    "product_of_all_array_elements = 1 # инициализация переменной произведения всех элементов массива\n",
    "for i in range(len(our_matrix)):\n",
    "    for j in range(len(our_matrix[i])):\n",
    "        if((our_matrix[i][j] % 2) == 0):\n",
    "            sum_of_all_array_elements += our_matrix[i][j]\n",
    "            product_of_all_array_elements *= our_matrix[i][j]\n",
    "print(\"Сумма всех четных элементов массива: \" + str(sum_of_all_array_elements))\n",
    "print(\"Произведение всех четных элементов массива: \" + str(product_of_all_array_elements))\n",
    "\n",
    "# вывод суммы и произведения всех элементов массива, кратных 5 или/и 8\n",
    "sum_of_all_array_elements = 0 # инициализация переменной суммы всех элементов массива\n",
    "product_of_all_array_elements = 1 # инициализация переменной произведения всех элементов массива\n",
    "for i in range(len(our_matrix)):\n",
    "    for j in range(len(our_matrix[i])):\n",
    "        if( ((our_matrix[i][j] % 5) == 0) or (our_matrix[i][j] % 8) == 0):\n",
    "            sum_of_all_array_elements += our_matrix[i][j]\n",
    "            product_of_all_array_elements *= our_matrix[i][j]\n",
    "print(\"Сумма всех элементов массива, кратных 5 или/и 8: \" + str(sum_of_all_array_elements))\n",
    "if (product_of_all_array_elements != 1):\n",
    "    print(\"Произведение всех элементов массива, кратных 5 или/и 8: \" + str(product_of_all_array_elements))\n",
    "else:\n",
    "    print(\"Произведение всех элементов массива, кратных 5 или/и 8: \" + str(0))\n",
    "\n",
    "    \n",
    "\n",
    "# вывод количества отрицательных переменных, больших - 9\n",
    "amount_of_elements = 0 # инициализация переменной количества чисел в массиве\n",
    "for i in range(len(our_matrix)):\n",
    "    for j in range(len(our_matrix[i])):\n",
    "        if((our_matrix[i][j] < 0) and (our_matrix[i][j] > -9)):\n",
    "            amount_of_elements += 1\n",
    "print(\"Количество отрицательных элементов, больших -9: \" + str(amount_of_elements))\n",
    "\n"
   ]
  },
  {
   "cell_type": "code",
   "execution_count": null,
   "id": "306d85b0",
   "metadata": {
    "scrolled": true
   },
   "outputs": [],
   "source": [
    "# решение задач на зачёт. 18 мая 2021 год\n",
    "import matplotlib.pyplot as plt # импорт библиотеки для постройки графика\n",
    "X = [] # массив значений x\n",
    "Y = [] # массив значений y\n",
    "for i in range(-100,100,1):\n",
    "    X.append(i)  # заполнение массива x\n",
    "    Y.append(i*i) # заполнение массива y\n",
    "plt.plot(X,Y) # добавление в график массивов x и y\n",
    "plt.show() # вывод графика на экран"
   ]
  }
 ],
 "metadata": {
  "kernelspec": {
   "display_name": "Python 3",
   "language": "python",
   "name": "python3"
  },
  "language_info": {
   "codemirror_mode": {
    "name": "ipython",
    "version": 3
   },
   "file_extension": ".py",
   "mimetype": "text/x-python",
   "name": "python",
   "nbconvert_exporter": "python",
   "pygments_lexer": "ipython3",
   "version": "3.8.5"
  }
 },
 "nbformat": 4,
 "nbformat_minor": 5
}
